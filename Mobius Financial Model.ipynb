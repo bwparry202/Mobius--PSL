{
 "cells": [
  {
   "cell_type": "markdown",
   "metadata": {},
   "source": [
    "# Mobius Financial Model "
   ]
  },
  {
   "cell_type": "code",
   "execution_count": 1,
   "metadata": {},
   "outputs": [],
   "source": [
    "from ipywidgets import interact, interactive, fixed, interact_manual\n",
    "import ipywidgets as widgets\n",
    "\n",
    "import matplotlib.pyplot as plt\n",
    "%matplotlib inline\n",
    "\n",
    "from scipy.special import gamma\n",
    "import numpy as np"
   ]
  },
  {
   "cell_type": "code",
   "execution_count": 45,
   "metadata": {},
   "outputs": [
    {
     "data": {
      "application/vnd.jupyter.widget-view+json": {
       "model_id": "5b20261206934262ad704b1453c32119",
       "version_major": 2,
       "version_minor": 0
      },
      "text/plain": [
       "interactive(children=(FloatSlider(value=2000.0, description='Fans', max=10000.0, min=100.0, step=10.0), FloatS…"
      ]
     },
     "metadata": {},
     "output_type": "display_data"
    },
    {
     "data": {
      "text/plain": [
       "<function __main__.fin_est(Fans, Alpha, Beta)>"
      ]
     },
     "execution_count": 45,
     "metadata": {},
     "output_type": "execute_result"
    }
   ],
   "source": [
    "def fin_est(Fans,Alpha,Beta):\n",
    "    a = Alpha\n",
    "    b = Beta\n",
    "    B = (gamma(a)*gamma(b))/gamma(a+b)\n",
    "    x = np.linspace(0, 1)\n",
    "    y = (x**(a-1)*(1-x)**(b-1))/(B)\n",
    "    plt.subplot(2,1,1,ylabel='Relative Frequency of Fans')\n",
    "    plt.plot(100*x, y)\n",
    "    \n",
    "    numb = int(Fans)\n",
    "    sample = np.random.beta(a,b,numb)\n",
    "    plt.subplot(2,1,2,xlabel='$ Spent',ylabel=\"Samples\")\n",
    "    plt.hist(sample*100,30)\n",
    "    income = sum(sample*100)\n",
    "    avg_spent = income/numb\n",
    "    print('Total Dollars Spent on Movius:',round(income,2),'$')\n",
    "    print('AVG Spent by Fan:',round(avg_spent,2),'$')\n",
    "    \n",
    "interact(fin_est, Fans = widgets.FloatSlider(value=2000,\n",
    "                                            min=100,\n",
    "                                            max=10000,\n",
    "                                            step=10),\n",
    "        Alpha = widgets.FloatSlider(value=2,\n",
    "                                            min=1.5,\n",
    "                                            max=10,\n",
    "                                            step=0.5),\n",
    "        Beta = widgets.FloatSlider(value=5,\n",
    "                                            min=3,\n",
    "                                            max=10.0,\n",
    "                                            step=0.5))\n"
   ]
  },
  {
   "cell_type": "code",
   "execution_count": null,
   "metadata": {},
   "outputs": [],
   "source": []
  },
  {
   "cell_type": "code",
   "execution_count": 2,
   "metadata": {},
   "outputs": [
    {
     "name": "stdout",
     "output_type": "stream",
     "text": [
      "^C\n",
      "Note: you may need to restart the kernel to use updated packages.\n"
     ]
    }
   ],
   "source": []
  }
 ],
 "metadata": {
  "kernelspec": {
   "display_name": "Python 3",
   "language": "python",
   "name": "python3"
  },
  "language_info": {
   "codemirror_mode": {
    "name": "ipython",
    "version": 3
   },
   "file_extension": ".py",
   "mimetype": "text/x-python",
   "name": "python",
   "nbconvert_exporter": "python",
   "pygments_lexer": "ipython3",
   "version": "3.7.3"
  }
 },
 "nbformat": 4,
 "nbformat_minor": 2
}
